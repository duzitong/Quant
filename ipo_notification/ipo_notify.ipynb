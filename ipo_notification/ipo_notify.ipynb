{
 "cells": [
  {
   "cell_type": "code",
   "execution_count": 80,
   "metadata": {},
   "outputs": [],
   "source": [
    "import requests\n",
    "from bs4 import BeautifulSoup\n",
    "import datetime\n",
    "import traceback\n",
    "from tabulate import tabulate\n",
    "from email import encoders\n",
    "from email.header import Header\n",
    "from email.mime.text import MIMEText\n",
    "from email.utils import parseaddr, formataddr\n",
    "import smtplib\n",
    "import json"
   ]
  },
  {
   "cell_type": "code",
   "execution_count": 81,
   "metadata": {},
   "outputs": [],
   "source": [
    "resp = requests.get('http://vip.stock.finance.sina.com.cn/corp/go.php/vRPD_NewStockIssue/page/1.phtml')\n",
    "resp.encoding = 'gb18030' \n",
    "soup = BeautifulSoup(resp.text, 'lxml')"
   ]
  },
  {
   "cell_type": "code",
   "execution_count": 82,
   "metadata": {
    "collapsed": true
   },
   "outputs": [],
   "source": [
    "stocks = [['证券代码', '申购代码', '证券简称', '上网发行日期', '上市日期', \n",
    "          '发行数量(万股)', '上网发行数量(万股)', '发行价格(元)', '市盈率']]"
   ]
  },
  {
   "cell_type": "code",
   "execution_count": 83,
   "metadata": {},
   "outputs": [],
   "source": [
    "for line in soup.find(id='NewStockTable').find_all('tr')[3:]:\n",
    "    try:\n",
    "        info = [td.get_text().strip() for td in line.find_all('td')]\n",
    "        ipo_date = info[3]\n",
    "        tomorrow = (datetime.date.today() + datetime.timedelta(days=1)).isoformat()\n",
    "        if ipo_date == tomorrow:\n",
    "            stocks.append(info[:-6])\n",
    "        elif ipo_date < tomorrow:\n",
    "            break\n",
    "    except:\n",
    "        traceback.print_exc()\n",
    "        continue"
   ]
  },
  {
   "cell_type": "code",
   "execution_count": 85,
   "metadata": {},
   "outputs": [
    {
     "name": "stderr",
     "output_type": "stream",
     "text": [
      "send: 'ehlo [192.168.1.2]\\r\\n'\n",
      "reply: b'250-mail\\r\\n'\n",
      "reply: b'250-PIPELINING\\r\\n'\n",
      "reply: b'250-AUTH LOGIN PLAIN \\r\\n'\n",
      "reply: b'250-AUTH=LOGIN PLAIN\\r\\n'\n",
      "reply: b'250-coremail 1Uxr2xKj7kG0xkI17xGrU7I0s8FY2U3Uj8Cz28x1UUUUU7Ic2I0Y2UrGzxT5UCa0xDrUUUUj\\r\\n'\n",
      "reply: b'250-STARTTLS\\r\\n'\n",
      "reply: b'250 8BITMIME\\r\\n'\n",
      "reply: retcode (250); Msg: b'mail\\nPIPELINING\\nAUTH LOGIN PLAIN\\nAUTH=LOGIN PLAIN\\ncoremail 1Uxr2xKj7kG0xkI17xGrU7I0s8FY2U3Uj8Cz28x1UUUUU7Ic2I0Y2UrGzxT5UCa0xDrUUUUj\\nSTARTTLS\\n8BITMIME'\n",
      "send: 'AUTH PLAIN AGR1eml0b25nODExQDEyNi5jb20ATmV0TEBUZWNoRVoyOTk=\\r\\n'\n",
      "reply: b'235 Authentication successful\\r\\n'\n",
      "reply: retcode (235); Msg: b'Authentication successful'\n",
      "send: 'mail FROM:<duzitong811@126.com>\\r\\n'\n",
      "reply: b'250 Mail OK\\r\\n'\n",
      "reply: retcode (250); Msg: b'Mail OK'\n",
      "send: 'rcpt TO:<duzitong811@126.com>\\r\\n'\n",
      "reply: b'250 Mail OK\\r\\n'\n",
      "reply: retcode (250); Msg: b'Mail OK'\n",
      "send: 'data\\r\\n'\n",
      "reply: b'354 End data with <CR><LF>.<CR><LF>\\r\\n'\n",
      "reply: retcode (354); Msg: b'End data with <CR><LF>.<CR><LF>'\n",
      "data: (354, b'End data with <CR><LF>.<CR><LF>')\n",
      "send: b'Content-Type: text/plain; charset=\"utf-8\"\\r\\nMIME-Version: 1.0\\r\\nContent-Transfer-Encoding: base64\\r\\nFrom: duzitong811@126.com\\r\\nTo: duzitong811@126.com\\r\\nSubject: =?utf-8?b?5piO5pel5paw6IKh?=\\r\\n\\r\\nLS0tLS0tLS0gIC0tLS0tLS0tICAtLS0tLS0tLSAgLS0tLS0tLS0tLS0tICAtLS0tLS0tLSAgLS0t\\r\\nLS0tLS0tLS0tLS0gIC0tLS0tLS0tLS0tLS0tLS0tLSAgLS0tLS0tLS0tLS0tICAtLS0tLS0K6K+B\\r\\n5Yi45Luj56CBICDnlLPotK3ku6PnoIEgIOivgeWIuOeugOensCAg5LiK572R5Y+R6KGM5pel5pyf\\r\\nICDkuIrluILml6XmnJ8gIOWPkeihjOaVsOmHjyjkuIfogqEpICDkuIrnvZHlj5HooYzmlbDph48o\\r\\n5LiH6IKhKSAg5Y+R6KGM5Lu35qC8KOWFgykgIOW4guebiOeOhwowMDI5MzEgICAgMDAyOTMxICAg\\r\\nIOmUi+m+meiCoeS7vSAgMjAxOC0wMy0yMiAgICAgICAgICAgICAgMjIyMiAgICAgICAgICAgIDg3\\r\\nMiAgICAgICAgICAgICAgICAgMTIuMzYgICAgICAgICAyMi45OAotLS0tLS0tLSAgLS0tLS0tLS0g\\r\\nIC0tLS0tLS0tICAtLS0tLS0tLS0tLS0gIC0tLS0tLS0tICAtLS0tLS0tLS0tLS0tLSAgLS0tLS0t\\r\\nLS0tLS0tLS0tLS0tICAtLS0tLS0tLS0tLS0gIC0tLS0tLQ==\\r\\n.\\r\\n'\n",
      "reply: b'250 Mail OK queued as smtp7,DsmowADXRNIkgbJaHjfFDw--.58453S2 1521647909\\r\\n'\n",
      "reply: retcode (250); Msg: b'Mail OK queued as smtp7,DsmowADXRNIkgbJaHjfFDw--.58453S2 1521647909'\n",
      "data: (250, b'Mail OK queued as smtp7,DsmowADXRNIkgbJaHjfFDw--.58453S2 1521647909')\n",
      "send: 'quit\\r\\n'\n",
      "reply: b'221 Bye\\r\\n'\n",
      "reply: retcode (221); Msg: b'Bye'\n"
     ]
    },
    {
     "data": {
      "text/plain": [
       "(221, b'Bye')"
      ]
     },
     "execution_count": 85,
     "metadata": {},
     "output_type": "execute_result"
    }
   ],
   "source": [
    "with open('smtp.json') as f:\n",
    "    config = json.load(f)\n",
    "\n",
    "msg = MIMEText(tabulate(stocks), 'plain', 'utf-8')\n",
    "msg['From'] = config['from']\n",
    "msg['To'] = ','.join(config['to'])\n",
    "msg['Subject'] = Header(u'明日新股', 'utf-8').encode()\n",
    "\n",
    "server = smtplib.SMTP_SSL(config['server'], 465)\n",
    "server.set_debuglevel(1)\n",
    "server.login(config['from'], config['password'])\n",
    "server.sendmail(from_addr, config['to'], msg.as_string())\n",
    "server.quit()"
   ]
  },
  {
   "cell_type": "code",
   "execution_count": null,
   "metadata": {
    "collapsed": true
   },
   "outputs": [],
   "source": []
  }
 ],
 "metadata": {
  "kernelspec": {
   "display_name": "Python 3",
   "language": "python",
   "name": "python3"
  },
  "language_info": {
   "codemirror_mode": {
    "name": "ipython",
    "version": 3
   },
   "file_extension": ".py",
   "mimetype": "text/x-python",
   "name": "python",
   "nbconvert_exporter": "python",
   "pygments_lexer": "ipython3",
   "version": "3.6.1"
  }
 },
 "nbformat": 4,
 "nbformat_minor": 2
}
