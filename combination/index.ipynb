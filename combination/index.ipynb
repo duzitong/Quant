{
 "cells": [
  {
   "cell_type": "code",
   "execution_count": 51,
   "metadata": {
    "collapsed": true
   },
   "outputs": [],
   "source": [
    "import tushare\n",
    "import pandas as pd\n",
    "import numpy as np"
   ]
  },
  {
   "cell_type": "code",
   "execution_count": 52,
   "metadata": {},
   "outputs": [],
   "source": [
    "hs300 = pd.read_csv('399300.csv', encoding=\"gb2312\")\n",
    "cy = pd.read_csv('399006.csv', encoding=\"gb2312\")"
   ]
  },
  {
   "cell_type": "code",
   "execution_count": 53,
   "metadata": {
    "collapsed": true
   },
   "outputs": [],
   "source": [
    "def get_avg_and_std(series):\n",
    "    return series.sum()/len(series), series.std()"
   ]
  },
  {
   "cell_type": "code",
   "execution_count": 137,
   "metadata": {
    "collapsed": true
   },
   "outputs": [],
   "source": [
    "hc, cc = hs300['收盘价'][:1889], cy['收盘价']"
   ]
  },
  {
   "cell_type": "code",
   "execution_count": 124,
   "metadata": {
    "collapsed": true
   },
   "outputs": [],
   "source": [
    "ha, hs = get_avg_and_std(hc)"
   ]
  },
  {
   "cell_type": "code",
   "execution_count": 125,
   "metadata": {
    "collapsed": true
   },
   "outputs": [],
   "source": [
    "ca, cs = get_avg_and_std(cc)"
   ]
  },
  {
   "cell_type": "code",
   "execution_count": 126,
   "metadata": {},
   "outputs": [
    {
     "data": {
      "text/plain": [
       "(0.2036199904607363, 0.24313354040095284)"
      ]
     },
     "execution_count": 126,
     "metadata": {},
     "output_type": "execute_result"
    }
   ],
   "source": [
    "h, c = (hs/ha), (cs/ca)\n",
    "h, c"
   ]
  },
  {
   "cell_type": "code",
   "execution_count": 148,
   "metadata": {
    "collapsed": true
   },
   "outputs": [],
   "source": [
    "def search(sa, sb, begin, end):\n",
    "    if end <= begin or end < 0.00001:\n",
    "        return begin\n",
    "    mid = (begin + end) / 2\n",
    "    a1, s1 = get_avg_and_std(sa)\n",
    "    a2, s2 = get_avg_and_std(sb)\n",
    "    if s1/a1 < s2/a2:\n",
    "        return search(sa, sa * (1-mid) + sb * mid, begin, mid)\n",
    "    else:\n",
    "        return search(sa * (1-mid) + sb * mid, sb, mid, end)\n",
    "    "
   ]
  },
  {
   "cell_type": "code",
   "execution_count": 155,
   "metadata": {},
   "outputs": [
    {
     "name": "stdout",
     "output_type": "stream",
     "text": [
      "50 0.4999999999999992\n",
      "100 0.49999999999999833\n",
      "150 0.625\n",
      "200 0.75\n",
      "250 0.75\n",
      "300 0.75\n",
      "350 0.59423828125\n",
      "400 0.57421875\n",
      "450 0.578125\n",
      "500 0.5751953125\n",
      "550 0.5\n",
      "600 0.4999999999999998\n",
      "650 0.4860951086011487\n",
      "700 0.25\n",
      "750 0.25\n",
      "800 0.25\n",
      "850 0.25\n",
      "900 0.25\n",
      "950 0.25\n",
      "1000 0.375\n",
      "1050 0.375\n",
      "1100 0.25\n",
      "1150 0.25\n",
      "1200 0.0009765624999999931\n",
      "1250 0.0009765625\n",
      "1300 0.0009765624999999931\n",
      "1350 0.0009765625\n",
      "1400 0.0009765624999999722\n",
      "1450 0.0009765625\n",
      "1500 0.0009765625\n",
      "1550 0.0009765625\n",
      "1600 0.0009765625\n",
      "1650 0.0009765624999999861\n",
      "1700 0.0009765624999999722\n",
      "1750 0.0009765624999999931\n",
      "1800 0.0009765625\n"
     ]
    }
   ],
   "source": [
    "for i in range(50, 1850, 50):\n",
    "    print(i, search(hc[:i], cc[:i], 0, 1))"
   ]
  },
  {
   "cell_type": "code",
   "execution_count": 156,
   "metadata": {},
   "outputs": [
    {
     "data": {
      "text/plain": [
       "0.028694442626450718"
      ]
     },
     "execution_count": 156,
     "metadata": {},
     "output_type": "execute_result"
    }
   ],
   "source": [
    "best, sli = 0.5, 50\n",
    "a, b = get_avg_and_std(hc[:sli] * (1-best) + cc[:sli] * best)\n",
    "b/a"
   ]
  },
  {
   "cell_type": "code",
   "execution_count": 157,
   "metadata": {},
   "outputs": [
    {
     "data": {
      "text/plain": [
       "13300.0"
      ]
     },
     "execution_count": 157,
     "metadata": {},
     "output_type": "execute_result"
    }
   ],
   "source": [
    "13300*best / (1-best)"
   ]
  },
  {
   "cell_type": "code",
   "execution_count": null,
   "metadata": {
    "collapsed": true
   },
   "outputs": [],
   "source": []
  }
 ],
 "metadata": {
  "kernelspec": {
   "display_name": "Python 3",
   "language": "python",
   "name": "python3"
  },
  "language_info": {
   "codemirror_mode": {
    "name": "ipython",
    "version": 3
   },
   "file_extension": ".py",
   "mimetype": "text/x-python",
   "name": "python",
   "nbconvert_exporter": "python",
   "pygments_lexer": "ipython3",
   "version": "3.6.1"
  }
 },
 "nbformat": 4,
 "nbformat_minor": 2
}
