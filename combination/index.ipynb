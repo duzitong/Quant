{
 "cells": [
  {
   "cell_type": "code",
   "execution_count": 4,
   "metadata": {
    "collapsed": true
   },
   "outputs": [],
   "source": [
    "import pandas as pd\n",
    "import numpy as np"
   ]
  },
  {
   "cell_type": "code",
   "execution_count": 5,
   "metadata": {
    "collapsed": true
   },
   "outputs": [],
   "source": [
    "hs300 = pd.read_csv('399300.csv', encoding=\"gb2312\")\n",
    "cy = pd.read_csv('399006.csv', encoding=\"gb2312\")"
   ]
  },
  {
   "cell_type": "code",
   "execution_count": 65,
   "metadata": {
    "collapsed": true
   },
   "outputs": [],
   "source": [
    "def get_avg_and_std(series):\n",
    "    return np.average(series), series.std()"
   ]
  },
  {
   "cell_type": "code",
   "execution_count": 7,
   "metadata": {
    "collapsed": true
   },
   "outputs": [],
   "source": [
    "hc, cc = hs300['收盘价'][:1889], cy['收盘价']"
   ]
  },
  {
   "cell_type": "code",
   "execution_count": 8,
   "metadata": {
    "collapsed": true
   },
   "outputs": [],
   "source": [
    "ha, hs = get_avg_and_std(hc)"
   ]
  },
  {
   "cell_type": "code",
   "execution_count": 9,
   "metadata": {
    "collapsed": true
   },
   "outputs": [],
   "source": [
    "ca, cs = get_avg_and_std(cc)"
   ]
  },
  {
   "cell_type": "code",
   "execution_count": 10,
   "metadata": {},
   "outputs": [
    {
     "data": {
      "text/plain": [
       "(0.21534384260779169, 0.4337850458803088)"
      ]
     },
     "execution_count": 10,
     "metadata": {},
     "output_type": "execute_result"
    }
   ],
   "source": [
    "h, c = (hs/ha), (cs/ca)\n",
    "h, c"
   ]
  },
  {
   "cell_type": "code",
   "execution_count": 66,
   "metadata": {
    "collapsed": true
   },
   "outputs": [],
   "source": [
    "def search(begin, end, sli):\n",
    "    if abs(end-begin)<=0.01:\n",
    "        a,s = get_avg_and_std(hc[:sli] * begin + cc[:sli] * (1-begin))\n",
    "        return a, s, begin, end\n",
    "    mid = (begin + end) / 2\n",
    "    a1, s1, b1, e1 = search(begin, mid, sli)\n",
    "    a2, s2, b2, e2 = search(mid, end, sli)\n",
    "    if s1/a1 < s2/a2:\n",
    "        return a1, s1, b1, e1\n",
    "    else:\n",
    "        return a2, s2, b2, e2\n",
    "    "
   ]
  },
  {
   "cell_type": "code",
   "execution_count": 86,
   "metadata": {},
   "outputs": [],
   "source": [
    "bests = []\n",
    "for i in range(50, 801, 50):\n",
    "    _,_,_, end = search(0, 1, i)\n",
    "    bests.append(end)"
   ]
  },
  {
   "cell_type": "code",
   "execution_count": 87,
   "metadata": {},
   "outputs": [],
   "source": [
    "hac = [b*2 for b in bests]\n",
    "cac = [1-b for b in bests]"
   ]
  },
  {
   "cell_type": "code",
   "execution_count": 88,
   "metadata": {},
   "outputs": [
    {
     "data": {
      "text/plain": [
       "0.60157050187777394"
      ]
     },
     "execution_count": 88,
     "metadata": {},
     "output_type": "execute_result"
    }
   ],
   "source": [
    "print(np.average(hac) / (np.average(hac)+np.average(cac)))"
   ]
  },
  {
   "cell_type": "code",
   "execution_count": null,
   "metadata": {
    "collapsed": true
   },
   "outputs": [],
   "source": []
  }
 ],
 "metadata": {
  "kernelspec": {
   "display_name": "Python 3",
   "language": "python",
   "name": "python3"
  },
  "language_info": {
   "codemirror_mode": {
    "name": "ipython",
    "version": 3
   },
   "file_extension": ".py",
   "mimetype": "text/x-python",
   "name": "python",
   "nbconvert_exporter": "python",
   "pygments_lexer": "ipython3",
   "version": "3.6.1"
  }
 },
 "nbformat": 4,
 "nbformat_minor": 2
}
